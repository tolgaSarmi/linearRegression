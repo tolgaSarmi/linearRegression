{
  "nbformat": 4,
  "nbformat_minor": 0,
  "metadata": {
    "colab": {
      "provenance": [],
      "authorship_tag": "ABX9TyP4SBaf06zKNVAstlYXB3VQ",
      "include_colab_link": true
    },
    "kernelspec": {
      "name": "python3",
      "display_name": "Python 3"
    },
    "language_info": {
      "name": "python"
    }
  },
  "cells": [
    {
      "cell_type": "markdown",
      "metadata": {
        "id": "view-in-github",
        "colab_type": "text"
      },
      "source": [
        "<a href=\"https://colab.research.google.com/github/tolgaSarmi/linearRegression/blob/main/linearRegression.ipynb\" target=\"_parent\"><img src=\"https://colab.research.google.com/assets/colab-badge.svg\" alt=\"Open In Colab\"/></a>"
      ]
    },
    {
      "cell_type": "code",
      "execution_count": 2,
      "metadata": {
        "id": "xMK0vqt2VyB8",
        "colab": {
          "base_uri": "https://localhost:8080/"
        },
        "outputId": "0e9c446d-bb67-4263-8a32-66773cd299bf"
      },
      "outputs": [
        {
          "output_type": "stream",
          "name": "stdout",
          "text": [
            "Mounted at /content/gdrive\n"
          ]
        }
      ],
      "source": [
        "from google.colab import drive\n",
        "drive.mount(\"/content/gdrive\")\n",
        "import pandas as pd\n",
        "import numpy as np"
      ]
    },
    {
      "cell_type": "code",
      "source": [
        "def compute_cost(data , w, b):\n",
        "  # Compute cost function by the mean squared error\n",
        "\n",
        "  y = data[\"Salary\"] # Feature\n",
        "  x = data[\"YearsExperience\"] # output\n",
        "  lenght = len(data)\n",
        "  j_wb = 0 # Initialize cost function\n",
        "\n",
        "  for i in range(lenght):\n",
        "    f_wb = w*x[i] + b \n",
        "    j_wb = j_wb + (f_wb - y[i])**2\n",
        "  \n",
        "  return j_wb/2*lenght\n",
        "\n",
        "def compute_gradient(data , w, b, alpha):\n",
        "  # To calculate partial derivatives with respect to w and B respectively\n",
        "  \n",
        "  y = data[\"Salary\"] # Feature\n",
        "  x = data[\"YearsExperience\"] # output\n",
        "  lenght = len(data)\n",
        "  derivative_sum_w = 0\n",
        "  derivative_sum_b = 0\n",
        "\n",
        "  for i in range(lenght):\n",
        "\n",
        "    f_wb = w*x[i] + b \n",
        "    derivative_sum_w = derivative_sum_w + (f_wb - y[i])*x[i]\n",
        "    derivative_sum_b = derivative_sum_b + (f_wb - y[i])\n",
        "  return derivative_sum_w/lenght, derivative_sum_b/lenght\n",
        "\n",
        "def gradient_descent(data , w, b, alpha, iteration):\n",
        "  # Calculating different coeeficients in order to find minimum cost fun ction\n",
        "\n",
        "  i = 0\n",
        "  while i < iteration:\n",
        "    pre_cost = compute_cost(data , w, b)\n",
        "    partial_derivative_w, partial_derivative_b = compute_gradient(data , w, b, alpha)\n",
        "    w = w - alpha * partial_derivative_w\n",
        "    b = b - alpha * partial_derivative_b\n",
        "    post_cost = compute_cost(data , w, b)\n",
        "    if pre_cost > post_cost: # Not local minimum\n",
        "      i=+1\n",
        "    else: # Local minimum\n",
        "      break\n",
        "  \n",
        "  return w, b\n",
        "\n",
        "def main():\n",
        "  # Main function to load the data, to create the algorithm and run the model.\n",
        "\n",
        "    # Loading data from CVS file\n",
        "    data = pd.read_csv('/content/gdrive/MyDrive/Salary_Data.csv', delimiter=',')\n",
        "    \n",
        "    # Check for missing values\n",
        "    if sum (data.isnull().sum())!=0:\n",
        "      print(data.isnull().sum())\n",
        "      quit()\n",
        "    alpha_iteration = 1000\n",
        "    tmp_alpha = 0.01\n",
        "    w_final, b_final = gradient_descent(data = data, w = 0, b = 0, alpha = tmp_alpha, iteration = alpha_iteration)\n",
        "    print(w_final, b_final)\n",
        "    lst = []\n",
        "    for i in range(len(data)):\n",
        "      value = w_final * data.iloc[:,0][i] + b_final\n",
        "      lst.append(value)\n",
        "    print(lst)\n",
        "    \n",
        "# Run the main() function\n",
        "if __name__ == '__main__':\n",
        "    main()"
      ],
      "metadata": {
        "colab": {
          "base_uri": "https://localhost:8080/"
        },
        "id": "HjSdwdpYbr-4",
        "outputId": "262c54e4-f835-41c7-daf0-54a01b3a3712"
      },
      "execution_count": 3,
      "outputs": [
        {
          "output_type": "stream",
          "name": "stdout",
          "text": [
            "9449.963291623726 25792.193660959663\n",
            "[36187.15328174576, 38077.145940070506, 39967.13859839525, 44692.120244207115, 46582.112902531866, 53197.08720666847, 54142.08353583084, 56032.07619415558, 56032.07619415558, 60757.057839967456, 62647.0504982922, 63592.04682745457, 63592.04682745457, 64537.04315661694, 68317.02847326643, 72097.01378991593, 73987.00644824066, 75876.9991065654, 81546.97708153965, 82491.97341070202, 90051.944044001, 92886.93303148811, 100446.9036647871, 103281.89265227421, 108006.87429808607, 110841.8632855732, 115566.84493138506, 116511.84126054743, 123126.81556468405, 125016.80822300879]\n"
          ]
        }
      ]
    },
    {
      "cell_type": "code",
      "source": [],
      "metadata": {
        "id": "hLq5Us0ycJ03"
      },
      "execution_count": null,
      "outputs": []
    }
  ]
}